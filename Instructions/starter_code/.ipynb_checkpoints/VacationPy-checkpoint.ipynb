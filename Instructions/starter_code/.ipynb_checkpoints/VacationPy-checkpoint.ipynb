{
 "cells": [
  {
   "cell_type": "markdown",
   "metadata": {},
   "source": [
    "# VacationPy\n",
    "----\n",
    "\n",
    "#### Note\n",
    "* Keep an eye on your API usage. Use https://developers.google.com/maps/reporting/gmp-reporting as reference for how to monitor your usage and billing.\n",
    "\n",
    "* Instructions have been included for each segment. You do not have to follow them exactly, but they are included to help you think through the steps."
   ]
  },
  {
   "cell_type": "code",
   "execution_count": null,
   "metadata": {},
   "outputs": [],
   "source": [
    "# Dependencies and Setup\n",
    "import matplotlib.pyplot as plt\n",
    "import pandas as pd\n",
    "import numpy as np\n",
    "import requests\n",
    "import gmaps\n",
    "import os\n",
    "\n",
    "# Import API key\n",
    "from api_keys import g_key"
   ]
  },
  {
   "cell_type": "markdown",
   "metadata": {},
   "source": [
    "### Store Part I results into DataFrame\n",
    "* Load the csv exported in Part I to a DataFrame"
   ]
  },
  {
   "cell_type": "code",
   "execution_count": null,
   "metadata": {},
   "outputs": [],
   "source": [
    "# csv_file = \"Output/weather_data.csv\"\n",
    "# heatmap_df=pd.read_csv(csv_file, encoding=\"utf-8\")\n",
    "# heatmap_df.head()\n"
   ]
  },
  {
   "cell_type": "markdown",
   "metadata": {},
   "source": [
    "### Humidity Heatmap\n",
    "* Configure gmaps.\n",
    "* Use the Lat and Lng as locations and Humidity as the weight.\n",
    "* Add Heatmap layer to map."
   ]
  },
  {
   "cell_type": "code",
   "execution_count": null,
   "metadata": {},
   "outputs": [],
   "source": [
    "# gmaps.configure(api_key=g_key)\n",
    "# locs = heatmap_df[[\"Latitude\",\"Longitude\"]]\n",
    "# humid = heatmap_df[[\"Humidity (%)\"]].astype(float)\n",
    "\n",
    "# fig = gmaps.figure()\n",
    "\n",
    "# heat_layer = gmaps.heatmap_layer(locs, weights=humid, \n",
    "#                                  dissipating=False, max_intensity=100, \n",
    "#                                  point_radius=2.0)\n",
    "\n",
    "# fig.add_layer(heat_layer)\n",
    "\n",
    "# fig\n",
    "\n"
   ]
  },
  {
   "cell_type": "code",
   "execution_count": null,
   "metadata": {},
   "outputs": [],
   "source": []
  },
  {
   "cell_type": "markdown",
   "metadata": {},
   "source": [
    "### Create new DataFrame fitting weather criteria\n",
    "* Narrow down the cities to fit weather conditions.\n",
    "* Drop any rows will null values."
   ]
  },
  {
   "cell_type": "code",
   "execution_count": null,
   "metadata": {},
   "outputs": [],
   "source": [
    "# conditions_df = pd.DataFrame(heatmap_df, columns = [\"City\", \"Temperature (F)\", \"Wind Speed (mph)\", \"Cloudiness (%)\"])\n",
    "\n",
    "# ideal_temp = (conditions_df[\"Temperature (F)\"] >=70) & (conditions_df[\"Temperature (F)\"] <=80)\n",
    "# light_wind = conditions_df[\"Wind Speed (mph)\"] <10\n",
    "# low_cloud = conditions_df[\"Cloudiness (%)\"] ==0\n",
    "\n",
    "# conditions_df[ideal_temp & light_wind & low_cloud]\n"
   ]
  },
  {
   "cell_type": "markdown",
   "metadata": {},
   "source": [
    "### Hotel Map\n",
    "* Store into variable named `hotel_df`.\n",
    "* Add a \"Hotel Name\" column to the DataFrame.\n",
    "* Set parameters to search for hotels with 5000 meters.\n",
    "* Hit the Google Places API for each city's coordinates.\n",
    "* Store the first Hotel result into the DataFrame.\n",
    "* Plot markers on top of the heatmap."
   ]
  },
  {
   "cell_type": "code",
   "execution_count": null,
   "metadata": {},
   "outputs": [],
   "source": [
    "# hotel_df = conditions_df\n",
    "\n",
    "# hotel_df[\"Hotel Name\"] = \"\"\n",
    "# hotel_df.head()        "
   ]
  },
  {
   "cell_type": "code",
   "execution_count": null,
   "metadata": {},
   "outputs": [],
   "source": [
    "# params = {\n",
    "#     \"radius\": 5000,\n",
    "#     \"types\": \"lodging\",\n",
    "#     \"keyword\": \"Hotel\",\n",
    "#     \"key\": g_key\n",
    "# }\n",
    "\n",
    "# for index, row in hotel_df.iterrows():\n",
    "#         lat = row[\"Latitude\"]\n",
    "#         lng = row[\"Longitude\"]\n",
    "\n",
    "#         params[\"location\"] = f\"{lat},{lng}\"\n",
    "        \n",
    "#         base_url = \"https://maps.googleapis.com/maps/api/place/nearbysearch/json\"\n",
    "        \n",
    "#         response = requests.get(base_url, params).json()\n",
    "#         results = response['results']\n",
    "        \n",
    "#         try:\n",
    "#             print(f\"The nearest hotel in {city_name} is {results[0]['name']}.\")\n",
    "#             hotel_df.loc[index, \"Hotel Name\"] = results[0]['name']\n",
    "        \n",
    "#         except:\n",
    "#             print(\"No Matching Data\")\n",
    "            \n",
    "    "
   ]
  },
  {
   "cell_type": "code",
   "execution_count": null,
   "metadata": {},
   "outputs": [],
   "source": [
    "# hotel_df.head(1)"
   ]
  },
  {
   "cell_type": "code",
   "execution_count": null,
   "metadata": {},
   "outputs": [],
   "source": [
    "# NOTE: Do not change any of the code in this cell\n",
    "\n",
    "# Using the template add the hotel marks to the heatmap\n",
    "info_box_template = \"\"\"\n",
    "<dl>\n",
    "<dt>Name</dt><dd>{Hotel Name}</dd>\n",
    "<dt>City</dt><dd>{City}</dd>\n",
    "<dt>Country</dt><dd>{Country}</dd>\n",
    "</dl>\n",
    "\"\"\"\n",
    "# Store the DataFrame Row\n",
    "# NOTE: be sure to update with your DataFrame name\n",
    "hotel_info = [info_box_template.format(**row) for index, row in hotel_df.iterrows()]\n",
    "locations = hotel_df[[\"Lat\", \"Lng\"]]"
   ]
  },
  {
   "cell_type": "code",
   "execution_count": null,
   "metadata": {},
   "outputs": [],
   "source": [
    "# Add marker layer ontop of heat map\n",
    "# markder = gmaps.marker_layer(locations)\n",
    "# fig.add_layer(markers)\n",
    "# fig\n",
    "\n",
    "# Display figure\n"
   ]
  },
  {
   "cell_type": "code",
   "execution_count": null,
   "metadata": {},
   "outputs": [],
   "source": []
  }
 ],
 "metadata": {
  "kernelspec": {
   "display_name": "Python (PythonData)",
   "language": "python",
   "name": "pythondata"
  },
  "language_info": {
   "codemirror_mode": {
    "name": "ipython",
    "version": 3
   },
   "file_extension": ".py",
   "mimetype": "text/x-python",
   "name": "python",
   "nbconvert_exporter": "python",
   "pygments_lexer": "ipython3",
   "version": "3.8.3"
  },
  "latex_envs": {
   "LaTeX_envs_menu_present": true,
   "autoclose": false,
   "autocomplete": true,
   "bibliofile": "biblio.bib",
   "cite_by": "apalike",
   "current_citInitial": 1,
   "eqLabelWithNumbers": true,
   "eqNumInitial": 1,
   "hotkeys": {
    "equation": "Ctrl-E",
    "itemize": "Ctrl-I"
   },
   "labels_anchors": false,
   "latex_user_defs": false,
   "report_style_numbering": false,
   "user_envs_cfg": false
  }
 },
 "nbformat": 4,
 "nbformat_minor": 4
}
